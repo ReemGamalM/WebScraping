{
  "nbformat": 4,
  "nbformat_minor": 0,
  "metadata": {
    "colab": {
      "provenance": [],
      "collapsed_sections": [
        "1NMnTuFU4XF3",
        "GsE-z7Son-xm",
        "ZaIwkooboJ5p",
        "OjfyXPCeoQM4"
      ]
    },
    "kernelspec": {
      "name": "python3",
      "display_name": "Python 3"
    },
    "language_info": {
      "name": "python"
    }
  },
  "cells": [
    {
      "cell_type": "markdown",
      "source": [
        "\n",
        "<a href=\"https://www.zero-grad.com/\">\n",
        "         <img alt=\"Zero Grad\" src=\"https://lh3.googleusercontent.com/oEMY-qk_B2HW_Fponz1a3u1fLfo3NpO0VFjQKnVW8fH0v93NAWala5Kgp0nN2ubiyZdEMpwhv3Ynv7bXsB0RZ28YfEd_ZlRum75OHEu0-z7XwHfcD3sin7_SORLzg1gz52MsxD3b1WbxQWX1RdR4HP3jpbJTOuCiddl92UBcQH_x-Llx7_XuZuwb9ekN9vYnKsw6U1yL2df4IVrJEDySttzab9qlHvMO7sSekgS64jPVAmATjqXqlvrwM026dhrad-7nX-hfr2uKlUGPuo9xKzVo4EhbUP1-pKBQNPNHO6P0KcReg3NxbtKmWXRyg9LPX0xO-wwXWt9GhCcPXFV_BoY5eQXabCjR3mlr9SO01VgWplas-XF4337_JOm-bVkiaQjQca_N4Gg0hy26TvIGRnHEMIPSgudYPqhMnatoN4xAC715rP82r1svC0_qadXMZHu6D40YqWnY9ZE-iujr2p1_CetxmG-uY94UATy7o-SnxuPchG4QfZkiUgRMr8xNg86bQMuBxbCS_lOyVMwfqwbt2IunlDcZ8yyN_3SJFzFHuFOOjQolgGQrytI0mP1oTwba7je0RtBtCuTck1UCMMsZvMnJhCtWgMmuLoYTkSCzxMXbz0T3L2AClDouA_3dwM7z1gdm8Gq4v06T1KWFUs1adGNH5fuj-pUHEfW4drzzXgolPH5SehqhaNsqdMttCPUzNPIIEjwfULyQi7nlP-w-qydK82mdhdmjQhrprfoGtsPckJkI1Tur60uZI7nLkES5cE3tQrGualSNArRkkU8KN4tStZ0CkmqZNkAlMbfAJSYBD7tDxhGSg922AdLevSLJMTUyg6KuHoY30r7zH1Z8fE0R8aFZL2LJl54OU_tkXEdlFlSnZTOdB-PVTj-yagpt99SetLnQIX5SS_Vxc0BNPKjUZG0oEHYbIxkbZN1O7Rg78xe-thytngS0byfuaeP2X4NYjg29FIffnn72bAUs9Ii0N2mOpABLg1uQMN4MyAa1Mbd_=w1300-h200-no?authuser=1\" >\n",
        "      </a>"
      ],
      "metadata": {
        "id": "hMV-7TpxbEDG"
      }
    },
    {
      "cell_type": "markdown",
      "source": [
        "# Guessing Game Project Description"
      ],
      "metadata": {
        "id": "1NMnTuFU4XF3"
      }
    },
    {
      "cell_type": "markdown",
      "source": [
        "* **`First: You ask the user to set the game level:`**\n",
        "  * *(1) Easy*:\n",
        "    * Limits : [1 - 10]  \n",
        "    * No. of trials : 3\n",
        "  * *(2) Intermediate*:\n",
        "    * Limits : [1 - 100]\n",
        "    * No. of trials : 7\n",
        "  * *(3) Hard* :  \n",
        "    * Limits : [1 - 1000]\n",
        "    * No. of trials : 15\n",
        "\n",
        "* **`Second: set the game settings according to the game level:`**\n",
        "  * set the `guess` to a number within the limits using `random` module\n",
        "  * set the number of trials: `n_trials`\n",
        "\n",
        "* **`Finally: Play the game:`**\n",
        "  * Ask the user to guess the number:\n",
        "    * If he guessed it successfully : `print('Congratulations, you achieved it in {user_trials} trial') `\n",
        "    * if he failed:\n",
        "      * user_trials < n_trials: till him (Increase) or (Decrease)\n",
        "      * user_trials = n_trials: `print('You Lose!')`"
      ],
      "metadata": {
        "id": "7uon2S-n4XF3"
      }
    },
    {
      "cell_type": "markdown",
      "source": [
        "## Project Description"
      ],
      "metadata": {
        "id": "PhpgbWHJhJOW"
      }
    },
    {
      "cell_type": "markdown",
      "source": [
        "* **`First: You ask the user to set the game level:`**\n",
        "  * *(1) Easy*:\n",
        "    * Limits : [1 - 10]  \n",
        "    * No. of trials : 3\n",
        "  * *(2) Intermediate*:\n",
        "    * Limits : [1 - 100]\n",
        "    * No. of trials : 7\n",
        "  * *(3) Hard* :  \n",
        "    * Limits : [1 - 1000]\n",
        "    * No. of trials : 15\n",
        "\n",
        "* **`Second: start the game according to the game level:`**\n",
        "  * set the `guess` to a number within the limits using `random` module\n",
        "  * set the number of trials: `n_trials`\n",
        "\n",
        "* **`Finally: start the game:`**\n",
        "  * Ask the user to guess the number:\n",
        "    * If he guessed it successfully : `print('Congratulations, you achieved it in {user_trials} trial') `\n",
        "    * if he failed:\n",
        "      * user_trials < n_trials: give him another trial within\n",
        "      * user_trials = n_trials: `print('You Lose!')`"
      ],
      "metadata": {
        "id": "9XJyp9xehPBl"
      }
    },
    {
      "cell_type": "code",
      "source": [],
      "metadata": {
        "id": "we7UkC6AhFwy"
      },
      "execution_count": null,
      "outputs": []
    },
    {
      "cell_type": "markdown",
      "source": [
        "# Template of Solution"
      ],
      "metadata": {
        "id": "m2nflmTioFy_"
      }
    },
    {
      "cell_type": "markdown",
      "source": [
        "## Show the game levels"
      ],
      "metadata": {
        "id": "GsE-z7Son-xm"
      }
    },
    {
      "cell_type": "code",
      "source": [
        "def show_levels():\n",
        "  # write your code here\n",
        "  print(\"\"\"Game Levels :\n",
        "  (1) Easy:\n",
        "      * Limits : [1 - 10]\n",
        "      * No. of trials : 3\n",
        "  (2) Intermediate*:\n",
        "      * Limits : [1 - 100]\n",
        "      * No. of trials : 7\n",
        "  (3) Hard :\n",
        "      * Limits : [1 - 1000]\n",
        "      * No. of trials : 15 \"\"\")"
      ],
      "metadata": {
        "id": "YueCJNtPnndY"
      },
      "execution_count": 3,
      "outputs": []
    },
    {
      "cell_type": "markdown",
      "source": [
        "## Ask the user for the game level"
      ],
      "metadata": {
        "id": "ZaIwkooboJ5p"
      }
    },
    {
      "cell_type": "code",
      "source": [
        "def game_level_choice():\n",
        "  # write your code here\n",
        "  print(\"Enter the game level :\\n (1) Easy \t (2) Intermediate \t (3) Hard \t3\")\n",
        "  while True:\n",
        "    game_level = input()\n",
        "    if game_level in [\"1\", \"2\", \"3\"]:\n",
        "      return int(game_level)\n",
        "\n",
        "    else:\n",
        "      print(\"Please enter a valid level [1,2,3]\")\n",
        "\n",
        ""
      ],
      "metadata": {
        "id": "ciabphtW4nB1"
      },
      "execution_count": 4,
      "outputs": []
    },
    {
      "cell_type": "markdown",
      "source": [
        "## Set the game settings according to the game level:\n"
      ],
      "metadata": {
        "id": "OjfyXPCeoQM4"
      }
    },
    {
      "cell_type": "code",
      "source": [
        "def set_game_settings(game_level):\n",
        "  # write your code here\n",
        "  if game_level == 1:\n",
        "    limits = range(1,11)\n",
        "    n_trials = 3\n",
        "  elif game_level == 2:\n",
        "    limits = range(1,101)\n",
        "    n_trials = 7\n",
        "  else:\n",
        "    limits = range(1,1001)\n",
        "    n_trials = 15\n",
        "\n",
        "  return limits, n_trials"
      ],
      "metadata": {
        "id": "NTxJ1qsJmhoG"
      },
      "execution_count": 5,
      "outputs": []
    },
    {
      "cell_type": "markdown",
      "source": [
        "## Start Playing"
      ],
      "metadata": {
        "id": "97c-Ofv1o522"
      }
    },
    {
      "cell_type": "markdown",
      "source": [
        "> Hint: to generate random number in some range:\n",
        "\n",
        "`import random`\n",
        "\n",
        "`num = random.randint(lower, upper)`\n",
        "\n",
        " or\n",
        "\n",
        " `num = random.choice(range(lower, upper))`\n"
      ],
      "metadata": {
        "id": "bwXcWa3bUREY"
      }
    },
    {
      "cell_type": "code",
      "source": [
        "def start_play(limits, n_trials):\n",
        "  # write your code here\n",
        "  hidden_num = random.choice(limits)\n",
        "  user_trials = 0\n",
        "  while user_trials < n_trials:\n",
        "    user_trials += 1\n",
        "    print(user_trials)\n",
        "    user_num = int(input(\"I have a hidden number, guess it : \"))\n",
        "    if user_num == hidden_num:\n",
        "      print(f\"You got it successfully in {user_trials} trials\")\n",
        "      break\n",
        "    elif user_num < hidden_num:\n",
        "      print(\"No, Increase!\")\n",
        "    else:\n",
        "      print(\"No, Decrease!\")\n",
        "\n",
        "  print(\"You Lose!\")\n",
        "\n",
        "\n"
      ],
      "metadata": {
        "id": "wz6TkIcTo1Jl"
      },
      "execution_count": 10,
      "outputs": []
    },
    {
      "cell_type": "code",
      "source": [
        "def play_again():\n",
        "  # write your code here\n",
        "  again = input(\"If you want to play again press 1 else press 0: \")\n",
        "  if again in [\"0\",\"1\"]:\n",
        "    return int(again)\n",
        "  else:\n",
        "    print(\"Please press [0,1] \")"
      ],
      "metadata": {
        "id": "ZFiXvhoifJB1"
      },
      "execution_count": 21,
      "outputs": []
    },
    {
      "cell_type": "markdown",
      "source": [
        "## Let's Play"
      ],
      "metadata": {
        "id": "uI9u-XGV2S7P"
      }
    },
    {
      "cell_type": "code",
      "source": [
        "def play():\n",
        "  show_levels()\n",
        "  game_level = game_level_choice()\n",
        "  limits, n_trials = set_game_settings(game_level)\n",
        "  start_play(limits, n_trials)"
      ],
      "metadata": {
        "id": "4nIAPOhSpksM"
      },
      "execution_count": 19,
      "outputs": []
    },
    {
      "cell_type": "code",
      "source": [
        "import random\n",
        "play_user = 1\n",
        "while play_user:\n",
        "  play()\n",
        "  play_user = play_again()"
      ],
      "metadata": {
        "colab": {
          "base_uri": "https://localhost:8080/"
        },
        "id": "7m9ENdZp1Ffg",
        "outputId": "0d152d4d-92b5-4e82-e81f-e1c45cf32c83"
      },
      "execution_count": 20,
      "outputs": [
        {
          "name": "stdout",
          "output_type": "stream",
          "text": [
            "Game Levels : \n",
            "  (1) Easy: \n",
            "      * Limits : [1 - 10]  \n",
            "      * No. of trials : 3\n",
            "  (2) Intermediate*: \n",
            "      * Limits : [1 - 100] \n",
            "      * No. of trials : 7\n",
            "  (3) Hard :  \n",
            "      * Limits : [1 - 1000] \n",
            "      * No. of trials : 15 \n",
            "Enter the game level :\n",
            " (1) Easy \t (2) Intermediate \t (3) Hard \t3\n",
            "1\n",
            "1\n",
            "I have a hidden number, guess it : 8\n",
            "No, Decrease!\n",
            "2\n",
            "I have a hidden number, guess it : 4\n",
            "No, Increase!\n",
            "3\n",
            "I have a hidden number, guess it : 6\n",
            "You got it successfully in 3 trials\n",
            "You Lose!\n",
            "If you want to play again press 1 else press 00\n"
          ]
        }
      ]
    },
    {
      "cell_type": "code",
      "source": [],
      "metadata": {
        "id": "O911u9mL3Akr"
      },
      "execution_count": null,
      "outputs": []
    }
  ]
}