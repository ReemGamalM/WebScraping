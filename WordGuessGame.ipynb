{
  "nbformat": 4,
  "nbformat_minor": 0,
  "metadata": {
    "colab": {
      "provenance": []
    },
    "kernelspec": {
      "name": "python3",
      "display_name": "Python 3"
    },
    "language_info": {
      "name": "python"
    }
  },
  "cells": [
    {
      "cell_type": "code",
      "source": [
        "import random"
      ],
      "metadata": {
        "id": "LV73tobnjwGZ"
      },
      "execution_count": 1,
      "outputs": []
    },
    {
      "cell_type": "code",
      "execution_count": 2,
      "metadata": {
        "id": "V8W9lhf_ifMS"
      },
      "outputs": [],
      "source": [
        "def choose_word(game_level):\n",
        "  if game_level == 1:\n",
        "    n_trials = 10\n",
        "  elif game_level == 2:\n",
        "    n_trials = 7\n",
        "  else:\n",
        "    n_trials = 3\n",
        "\n",
        "  words = [\"python\",\"programming\",\"computer\",\"algorithm\",\"data\",\"science\",\"machine\",\"learning\",\"AI\",\"coding\"]\n",
        "  return random.choice(words), n_trials"
      ]
    },
    {
      "cell_type": "code",
      "source": [
        "def show_levels():\n",
        "  print(\"\"\"Game Levels :\n",
        "  (1) Easy:\n",
        "      * No. of wrong guessed letters : 10\n",
        "  (2) Intermediate*:\n",
        "      * No. of wrong guessed letters : 7\n",
        "  (3) Hard :\n",
        "      * No. of wrong guessed letters : 3 \"\"\")"
      ],
      "metadata": {
        "id": "u8ugjR95vqhf"
      },
      "execution_count": 3,
      "outputs": []
    },
    {
      "cell_type": "code",
      "source": [
        "def game_level_choice():\n",
        "  # write your code here\n",
        "  print(\"Enter the game level :\\n (1) Easy \t (2) Intermediate \t (3) Hard \t3\")\n",
        "  while True:\n",
        "    game_level = input()\n",
        "    if game_level in [\"1\", \"2\", \"3\"]:\n",
        "      return int(game_level)\n",
        "\n",
        "    else:\n",
        "      print(\"Please enter a valid level [1,2,3]\")"
      ],
      "metadata": {
        "id": "lXhhIiuVj32Y"
      },
      "execution_count": 10,
      "outputs": []
    },
    {
      "cell_type": "code",
      "source": [
        "def check_input(user_input):\n",
        "  while True:\n",
        "    if len(user_input) == 1 and user_input.isalpha():\n",
        "        letter = user_input.lower()  # or .upper() if you want uppercase\n",
        "        break\n",
        "    else:\n",
        "        print(\"Invalid input. Please enter exactly one letter.\")\n",
        "        user_input = input(\"Enter a single letter: \").strip()\n",
        "\n",
        "  return letter\n",
        "\n",
        "\n"
      ],
      "metadata": {
        "id": "QZeD8mTzvIJe"
      },
      "execution_count": 4,
      "outputs": []
    },
    {
      "cell_type": "code",
      "source": [
        "def start_play(word, n_trials):\n",
        "  word_status = ['-'] * len(word)\n",
        "  user_trials = n_trials\n",
        "  user_guess = set()\n",
        "  while user_trials > 0:\n",
        "    if '-' not in word_status:\n",
        "      print(\"You Won!\")\n",
        "      break\n",
        "    result = ''.join(word_status)\n",
        "    if user_trials == n_trials:\n",
        "      user_letter = input(f\"I have a hidden word, guess it {result}: \").strip()\n",
        "    else:\n",
        "      user_letter = input(f\"I have a hidden word, guess it: \").strip()\n",
        "    user_letter = check_input(user_letter)\n",
        "    user_guess.add(user_letter)\n",
        "    if user_letter in word:\n",
        "      for index, letter in enumerate(word):\n",
        "        if letter == user_letter:\n",
        "          word_status[index] = letter\n",
        "      result = ''.join(word_status)\n",
        "      print(result)\n",
        "    else:\n",
        "      user_trials -= 1\n",
        "      print(f\"Wrong Guess!, your remaining trials {user_trials} \")\n",
        "\n",
        "  if '-' in word_status:\n",
        "    print(\"You Lose!\")"
      ],
      "metadata": {
        "id": "xcOK2TI5JVqE"
      },
      "execution_count": 14,
      "outputs": []
    },
    {
      "cell_type": "code",
      "source": [
        "def play():\n",
        "  show_levels()\n",
        "  game_level = game_level_choice()\n",
        "  word, n_trials = choose_word(game_level)\n",
        "  start_play(word, n_trials)"
      ],
      "metadata": {
        "id": "8-3z9yavpNSL"
      },
      "execution_count": 7,
      "outputs": []
    },
    {
      "cell_type": "code",
      "source": [
        "def play_again():\n",
        "  # write your code here\n",
        "  again = input(\"If you want to play again press 1 else press 0: \")\n",
        "  if again in [\"0\",\"1\"]:\n",
        "    return int(again)\n",
        "  else:\n",
        "    print(\"Please press [0,1] \")"
      ],
      "metadata": {
        "id": "UAluFzKVwUel"
      },
      "execution_count": 8,
      "outputs": []
    },
    {
      "cell_type": "code",
      "source": [
        "play_user = 1\n",
        "while play_user:\n",
        "  play()\n",
        "  play_user = play_again()"
      ],
      "metadata": {
        "colab": {
          "base_uri": "https://localhost:8080/"
        },
        "id": "B2pvzabIsjwE",
        "outputId": "174366e5-9c0f-474f-ec5d-261b5665c50c"
      },
      "execution_count": 13,
      "outputs": [
        {
          "name": "stdout",
          "output_type": "stream",
          "text": [
            "Game Levels :\n",
            "  (1) Easy:\n",
            "      * No. of wrong guessed letters : 10\n",
            "  (2) Intermediate*:\n",
            "      * No. of wrong guessed letters : 7\n",
            "  (3) Hard :\n",
            "      * No. of wrong guessed letters : 3 \n",
            "Enter the game level :\n",
            " (1) Easy \t (2) Intermediate \t (3) Hard \t3\n",
            "1\n",
            "I have a hidden word, guess it ----: p\n",
            "9\n",
            "Wrong Guess!, your remaining trials 9 \n",
            "I have a hidden word, guess it ----: e\n",
            "8\n",
            "Wrong Guess!, your remaining trials 8 \n",
            "I have a hidden word, guess it ----: d\n",
            "d---\n",
            "I have a hidden word, guess it d---: a\n",
            "da-a\n",
            "I have a hidden word, guess it da-a: t\n",
            "data\n",
            "You Won!\n",
            "If you want to play again press 1 else press 0: 1\n",
            "Game Levels :\n",
            "  (1) Easy:\n",
            "      * No. of wrong guessed letters : 10\n",
            "  (2) Intermediate*:\n",
            "      * No. of wrong guessed letters : 7\n",
            "  (3) Hard :\n",
            "      * No. of wrong guessed letters : 3 \n",
            "Enter the game level :\n",
            " (1) Easy \t (2) Intermediate \t (3) Hard \t3\n",
            "2\n",
            "I have a hidden word, guess it -------: p\n",
            "6\n",
            "Wrong Guess!, your remaining trials 6 \n",
            "I have a hidden word, guess it -------: a\n",
            "5\n",
            "Wrong Guess!, your remaining trials 5 \n",
            "I have a hidden word, guess it -------: t\n",
            "4\n",
            "Wrong Guess!, your remaining trials 4 \n",
            "I have a hidden word, guess it -------: e\n",
            "---e--e\n",
            "I have a hidden word, guess it ---e--e: s\n",
            "s--e--e\n",
            "I have a hidden word, guess it s--e--e: i\n",
            "s-ie--e\n",
            "I have a hidden word, guess it s-ie--e: c\n",
            "scie-ce\n",
            "I have a hidden word, guess it scie-ce: d\n",
            "3\n",
            "Wrong Guess!, your remaining trials 3 \n",
            "I have a hidden word, guess it scie-ce: g\n",
            "2\n",
            "Wrong Guess!, your remaining trials 2 \n",
            "I have a hidden word, guess it scie-ce: e\n",
            "scie-ce\n",
            "I have a hidden word, guess it scie-ce: w\n",
            "1\n",
            "Wrong Guess!, your remaining trials 1 \n",
            "I have a hidden word, guess it scie-ce: q\n",
            "0\n",
            "Wrong Guess!, your remaining trials 0 \n",
            "You Lose!\n",
            "If you want to play again press 1 else press 0: 0\n"
          ]
        }
      ]
    }
  ]
}